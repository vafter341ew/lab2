{
 "cells": [
  {
   "cell_type": "code",
   "execution_count": 5,
   "id": "b077f644-636f-43b7-ad86-f007ac917f41",
   "metadata": {},
   "outputs": [],
   "source": [
    "import polars as pl"
   ]
  },
  {
   "cell_type": "code",
   "execution_count": 6,
   "id": "db3a491e-2d54-4f77-a500-3cdb22a54dc2",
   "metadata": {},
   "outputs": [
    {
     "data": {
      "text/html": [
       "<div><style>\n",
       ".dataframe > thead > tr,\n",
       ".dataframe > tbody > tr {\n",
       "  text-align: right;\n",
       "  white-space: pre-wrap;\n",
       "}\n",
       "</style>\n",
       "<small>shape: (5, 30)</small><table border=\"1\" class=\"dataframe\"><thead><tr><th>playerID</th><th>yearID</th><th>stint</th><th>teamID</th><th>lgID</th><th>W</th><th>L</th><th>G</th><th>GS</th><th>CG</th><th>SHO</th><th>SV</th><th>IPouts</th><th>H</th><th>ER</th><th>HR</th><th>BB</th><th>SO</th><th>BAOpp</th><th>ERA</th><th>IBB</th><th>WP</th><th>HBP</th><th>BK</th><th>BFP</th><th>GF</th><th>R</th><th>SH</th><th>SF</th><th>GIDP</th></tr><tr><td>str</td><td>i64</td><td>i64</td><td>str</td><td>str</td><td>i64</td><td>i64</td><td>i64</td><td>i64</td><td>i64</td><td>i64</td><td>i64</td><td>i64</td><td>i64</td><td>i64</td><td>i64</td><td>i64</td><td>i64</td><td>f64</td><td>f64</td><td>i64</td><td>i64</td><td>i64</td><td>i64</td><td>i64</td><td>i64</td><td>i64</td><td>i64</td><td>i64</td><td>i64</td></tr></thead><tbody><tr><td>&quot;aardsda01&quot;</td><td>2004</td><td>1</td><td>&quot;SFN&quot;</td><td>&quot;NL&quot;</td><td>1</td><td>0</td><td>11</td><td>0</td><td>0</td><td>0</td><td>0</td><td>32</td><td>20</td><td>8</td><td>1</td><td>10</td><td>5</td><td>0.417</td><td>6.75</td><td>0</td><td>0</td><td>2</td><td>0</td><td>61</td><td>5</td><td>8</td><td>0</td><td>1</td><td>1</td></tr><tr><td>&quot;aardsda01&quot;</td><td>2006</td><td>1</td><td>&quot;CHN&quot;</td><td>&quot;NL&quot;</td><td>3</td><td>0</td><td>45</td><td>0</td><td>0</td><td>0</td><td>0</td><td>159</td><td>41</td><td>24</td><td>9</td><td>28</td><td>49</td><td>0.214</td><td>4.08</td><td>0</td><td>1</td><td>1</td><td>0</td><td>225</td><td>9</td><td>25</td><td>1</td><td>3</td><td>2</td></tr><tr><td>&quot;aardsda01&quot;</td><td>2007</td><td>1</td><td>&quot;CHA&quot;</td><td>&quot;AL&quot;</td><td>2</td><td>1</td><td>25</td><td>0</td><td>0</td><td>0</td><td>0</td><td>97</td><td>39</td><td>23</td><td>4</td><td>17</td><td>36</td><td>0.3</td><td>6.4</td><td>3</td><td>2</td><td>1</td><td>0</td><td>151</td><td>7</td><td>24</td><td>2</td><td>1</td><td>1</td></tr><tr><td>&quot;aardsda01&quot;</td><td>2008</td><td>1</td><td>&quot;BOS&quot;</td><td>&quot;AL&quot;</td><td>4</td><td>2</td><td>47</td><td>0</td><td>0</td><td>0</td><td>0</td><td>146</td><td>49</td><td>30</td><td>4</td><td>35</td><td>49</td><td>0.268</td><td>5.55</td><td>2</td><td>3</td><td>5</td><td>0</td><td>228</td><td>7</td><td>32</td><td>3</td><td>2</td><td>4</td></tr><tr><td>&quot;aardsda01&quot;</td><td>2009</td><td>1</td><td>&quot;SEA&quot;</td><td>&quot;AL&quot;</td><td>3</td><td>6</td><td>73</td><td>0</td><td>0</td><td>0</td><td>38</td><td>214</td><td>49</td><td>20</td><td>4</td><td>34</td><td>80</td><td>0.19</td><td>2.52</td><td>3</td><td>2</td><td>0</td><td>0</td><td>296</td><td>53</td><td>23</td><td>2</td><td>1</td><td>2</td></tr></tbody></table></div>"
      ],
      "text/plain": [
       "shape: (5, 30)\n",
       "┌───────────┬────────┬───────┬────────┬───┬─────┬─────┬─────┬──────┐\n",
       "│ playerID  ┆ yearID ┆ stint ┆ teamID ┆ … ┆ R   ┆ SH  ┆ SF  ┆ GIDP │\n",
       "│ ---       ┆ ---    ┆ ---   ┆ ---    ┆   ┆ --- ┆ --- ┆ --- ┆ ---  │\n",
       "│ str       ┆ i64    ┆ i64   ┆ str    ┆   ┆ i64 ┆ i64 ┆ i64 ┆ i64  │\n",
       "╞═══════════╪════════╪═══════╪════════╪═══╪═════╪═════╪═════╪══════╡\n",
       "│ aardsda01 ┆ 2004   ┆ 1     ┆ SFN    ┆ … ┆ 8   ┆ 0   ┆ 1   ┆ 1    │\n",
       "│ aardsda01 ┆ 2006   ┆ 1     ┆ CHN    ┆ … ┆ 25  ┆ 1   ┆ 3   ┆ 2    │\n",
       "│ aardsda01 ┆ 2007   ┆ 1     ┆ CHA    ┆ … ┆ 24  ┆ 2   ┆ 1   ┆ 1    │\n",
       "│ aardsda01 ┆ 2008   ┆ 1     ┆ BOS    ┆ … ┆ 32  ┆ 3   ┆ 2   ┆ 4    │\n",
       "│ aardsda01 ┆ 2009   ┆ 1     ┆ SEA    ┆ … ┆ 23  ┆ 2   ┆ 1   ┆ 2    │\n",
       "└───────────┴────────┴───────┴────────┴───┴─────┴─────┴─────┴──────┘"
      ]
     },
     "execution_count": 6,
     "metadata": {},
     "output_type": "execute_result"
    }
   ],
   "source": [
    "pitching = pl.read_csv(\"./data/lahman_1871-2024_csv/pitching.csv\")\n",
    "pitching.head()"
   ]
  },
  {
   "cell_type": "code",
   "execution_count": 7,
   "id": "61734a45-cc5e-4dbc-b602-3dc776b2fe5e",
   "metadata": {},
   "outputs": [
    {
     "name": "stdout",
     "output_type": "stream",
     "text": [
      "Current league_ERA structure:\n",
      "shape: (5, 5)\n",
      "┌────────┬──────┬──────────┬──────────────┬────────────┐\n",
      "│ yearID ┆ lgID ┆ total_ER ┆ total_IPouts ┆ league_ERA │\n",
      "│ ---    ┆ ---  ┆ ---      ┆ ---          ┆ ---        │\n",
      "│ i64    ┆ str  ┆ i64      ┆ i64          ┆ f64        │\n",
      "╞════════╪══════╪══════════╪══════════════╪════════════╡\n",
      "│ 2014   ┆ NL   ┆ 8878     ┆ 65445        ┆ 0.406968   │\n",
      "│ 1979   ┆ NL   ┆ 7243     ┆ 52280        ┆ 0.415627   │\n",
      "│ 1967   ┆ NL   ┆ 5470     ┆ 43748        ┆ 0.375103   │\n",
      "│ 1993   ┆ AL   ┆ 9741     ┆ 60667        ┆ 0.481695   │\n",
      "│ 2000   ┆ AL   ┆ 11014    ┆ 60423        ┆ 0.546845   │\n",
      "└────────┴──────┴──────────┴──────────────┴────────────┘\n",
      "Columns: ['yearID', 'lgID', 'total_ER', 'total_IPouts', 'league_ERA']\n"
     ]
    }
   ],
   "source": [
    "league_ERA = (\n",
    "    pitching\n",
    "    .filter(pl.col(\"yearID\") >= 1946)\n",
    "    .group_by([\"yearID\", \"lgID\"])\n",
    "    .agg([\n",
    "        pl.col(\"ER\").sum().alias(\"total_ER\"),\n",
    "        pl.col(\"IPouts\").sum().alias(\"total_IPouts\")\n",
    "    ])\n",
    "    .with_columns(\n",
    "        ((9 * pl.col(\"total_ER\")) / (pl.col(\"total_IPouts\") * 3)).alias(\"league_ERA\")\n",
    "    )\n",
    ")\n",
    "\n",
    "print(\"Current league_ERA structure:\")\n",
    "print(league_ERA.head())\n",
    "print(f\"Columns: {league_ERA.columns}\")\n"
   ]
  },
  {
   "cell_type": "code",
   "execution_count": 18,
   "id": "132e9115-9fc0-42d9-8e9a-4cecc6e6444a",
   "metadata": {
    "scrolled": true
   },
   "outputs": [
    {
     "name": "stdout",
     "output_type": "stream",
     "text": [
      "\n",
      "League ERA with DH states:\n",
      "shape: (10, 6)\n",
      "┌────────┬──────┬──────────┬──────────────┬────────────┬──────────────────────┐\n",
      "│ yearID ┆ lgID ┆ total_ER ┆ total_IPouts ┆ league_ERA ┆ DH_state             │\n",
      "│ ---    ┆ ---  ┆ ---      ┆ ---          ┆ ---        ┆ ---                  │\n",
      "│ i64    ┆ str  ┆ i64      ┆ i64          ┆ f64        ┆ str                  │\n",
      "╞════════╪══════╪══════════╪══════════════╪════════════╪══════════════════════╡\n",
      "│ 2014   ┆ NL   ┆ 8878     ┆ 65445        ┆ 0.406968   ┆ NL without DH        │\n",
      "│ 1979   ┆ NL   ┆ 7243     ┆ 52280        ┆ 0.415627   ┆ NL without DH        │\n",
      "│ 1967   ┆ NL   ┆ 5470     ┆ 43748        ┆ 0.375103   ┆ No DH (Both Leagues) │\n",
      "│ 1993   ┆ AL   ┆ 9741     ┆ 60667        ┆ 0.481695   ┆ AL with DH           │\n",
      "│ 2000   ┆ AL   ┆ 11014    ┆ 60423        ┆ 0.546845   ┆ AL with DH           │\n",
      "│ 1948   ┆ NL   ┆ 4814     ┆ 32867        ┆ 0.439407   ┆ No DH (Both Leagues) │\n",
      "│ 1948   ┆ AL   ┆ 5223     ┆ 32929        ┆ 0.475842   ┆ No DH (Both Leagues) │\n",
      "│ 2015   ┆ NL   ┆ 9436     ┆ 65140        ┆ 0.434572   ┆ NL without DH        │\n",
      "│ 2007   ┆ NL   ┆ 11460    ┆ 69742        ┆ 0.49296    ┆ NL without DH        │\n",
      "│ 1972   ┆ AL   ┆ 5682     ┆ 49961        ┆ 0.341186   ┆ No DH (Both Leagues) │\n",
      "└────────┴──────┴──────────┴──────────────┴────────────┴──────────────────────┘\n",
      "\n",
      "Unique DH states:\n",
      "shape: (4, 1)\n",
      "┌──────────────────────┐\n",
      "│ DH_state             │\n",
      "│ ---                  │\n",
      "│ str                  │\n",
      "╞══════════════════════╡\n",
      "│ AL with DH           │\n",
      "│ NL without DH        │\n",
      "│ No DH (Both Leagues) │\n",
      "│ Universal DH         │\n",
      "└──────────────────────┘\n",
      "\n",
      "Data saved to ./league_ERA_analysis.csv\n",
      "\n",
      "Sample of saved data (sorted by year and league):\n",
      "shape: (15, 6)\n",
      "┌────────┬──────┬──────────┬──────────────┬────────────┬──────────────────────┐\n",
      "│ yearID ┆ lgID ┆ total_ER ┆ total_IPouts ┆ league_ERA ┆ DH_state             │\n",
      "│ ---    ┆ ---  ┆ ---      ┆ ---          ┆ ---        ┆ ---                  │\n",
      "│ i64    ┆ str  ┆ i64      ┆ i64          ┆ f64        ┆ str                  │\n",
      "╞════════╪══════╪══════════╪══════════════╪════════════╪══════════════════════╡\n",
      "│ 1946   ┆ AL   ┆ 4306     ┆ 33186        ┆ 0.389261   ┆ No DH (Both Leagues) │\n",
      "│ 1946   ┆ NL   ┆ 4202     ┆ 33254        ┆ 0.379082   ┆ No DH (Both Leagues) │\n",
      "│ 1947   ┆ AL   ┆ 4560     ┆ 33228        ┆ 0.411701   ┆ No DH (Both Leagues) │\n",
      "│ 1947   ┆ NL   ┆ 4956     ┆ 32902        ┆ 0.451887   ┆ No DH (Both Leagues) │\n",
      "│ 1948   ┆ AL   ┆ 5223     ┆ 32929        ┆ 0.475842   ┆ No DH (Both Leagues) │\n",
      "│ …      ┆ …    ┆ …        ┆ …            ┆ …          ┆ …                    │\n",
      "│ 1951   ┆ AL   ┆ 5062     ┆ 33163        ┆ 0.45792    ┆ No DH (Both Leagues) │\n",
      "│ 1951   ┆ NL   ┆ 4905     ┆ 33462        ┆ 0.439753   ┆ No DH (Both Leagues) │\n",
      "│ 1952   ┆ AL   ┆ 4564     ┆ 33535        ┆ 0.40829    ┆ No DH (Both Leagues) │\n",
      "│ 1952   ┆ NL   ┆ 4572     ┆ 33083        ┆ 0.414594   ┆ No DH (Both Leagues) │\n",
      "│ 1953   ┆ AL   ┆ 4910     ┆ 33181        ┆ 0.443929   ┆ No DH (Both Leagues) │\n",
      "└────────┴──────┴──────────┴──────────────┴────────────┴──────────────────────┘\n"
     ]
    },
    {
     "name": "stderr",
     "output_type": "stream",
     "text": [
      "C:\\Users\\ke9712wb\\AppData\\Local\\Temp\\ipykernel_33372\\2099630442.py:13: MapWithoutReturnDtypeWarning: Calling `map_elements` without specifying `return_dtype` can lead to unpredictable results. Specify `return_dtype` to silence this warning.\n",
      "  league_ERA_with_DH = league_ERA.with_columns(\n"
     ]
    },
    {
     "data": {
      "text/html": [
       "<div><style>\n",
       ".dataframe > thead > tr,\n",
       ".dataframe > tbody > tr {\n",
       "  text-align: right;\n",
       "  white-space: pre-wrap;\n",
       "}\n",
       "</style>\n",
       "<small>shape: (5, 5)</small><table border=\"1\" class=\"dataframe\"><thead><tr><th>yearID</th><th>lgID</th><th>total_ER</th><th>total_IPouts</th><th>league_ERA</th></tr><tr><td>i64</td><td>str</td><td>i64</td><td>i64</td><td>f64</td></tr></thead><tbody><tr><td>2014</td><td>&quot;NL&quot;</td><td>8878</td><td>65445</td><td>0.406968</td></tr><tr><td>1979</td><td>&quot;NL&quot;</td><td>7243</td><td>52280</td><td>0.415627</td></tr><tr><td>1967</td><td>&quot;NL&quot;</td><td>5470</td><td>43748</td><td>0.375103</td></tr><tr><td>1993</td><td>&quot;AL&quot;</td><td>9741</td><td>60667</td><td>0.481695</td></tr><tr><td>2000</td><td>&quot;AL&quot;</td><td>11014</td><td>60423</td><td>0.546845</td></tr></tbody></table></div>"
      ],
      "text/plain": [
       "shape: (5, 5)\n",
       "┌────────┬──────┬──────────┬──────────────┬────────────┐\n",
       "│ yearID ┆ lgID ┆ total_ER ┆ total_IPouts ┆ league_ERA │\n",
       "│ ---    ┆ ---  ┆ ---      ┆ ---          ┆ ---        │\n",
       "│ i64    ┆ str  ┆ i64      ┆ i64          ┆ f64        │\n",
       "╞════════╪══════╪══════════╪══════════════╪════════════╡\n",
       "│ 2014   ┆ NL   ┆ 8878     ┆ 65445        ┆ 0.406968   │\n",
       "│ 1979   ┆ NL   ┆ 7243     ┆ 52280        ┆ 0.415627   │\n",
       "│ 1967   ┆ NL   ┆ 5470     ┆ 43748        ┆ 0.375103   │\n",
       "│ 1993   ┆ AL   ┆ 9741     ┆ 60667        ┆ 0.481695   │\n",
       "│ 2000   ┆ AL   ┆ 11014    ┆ 60423        ┆ 0.546845   │\n",
       "└────────┴──────┴──────────┴──────────────┴────────────┘"
      ]
     },
     "execution_count": 18,
     "metadata": {},
     "output_type": "execute_result"
    }
   ],
   "source": [
    "def assign_dh_state(year, league):\n",
    "    if year < 1973:\n",
    "        return \"No DH (Both Leagues)\"\n",
    "    elif year >= 2022:\n",
    "        return \"Universal DH\"\n",
    "    elif league == \"AL\":\n",
    "        return \"AL with DH\"\n",
    "    elif league == \"NL\":\n",
    "        return \"NL without DH\"\n",
    "    else:\n",
    "        return \"Unknown\"\n",
    "\n",
    "league_ERA_with_DH = league_ERA.with_columns(\n",
    "    pl.struct([\"yearID\", \"lgID\"]).map_elements(\n",
    "        lambda row: assign_dh_state(row[\"yearID\"], row[\"lgID\"])\n",
    "    ).alias(\"DH_state\")\n",
    ")\n",
    "\n",
    "print(\"\\nLeague ERA with DH states:\")\n",
    "print(league_ERA_with_DH.head(10))\n",
    "\n",
    "print(\"\\nUnique DH states:\")\n",
    "print(league_ERA_with_DH.select(\"DH_state\").unique().sort(\"DH_state\"))\n",
    "league_ERA_with_DH.write_csv(\"./league_ERA_analysis.csv\")\n",
    "print(\"\\nData saved to ./league_ERA_analysis.csv\")\n",
    "print(\"\\nSample of saved data (sorted by year and league):\")\n",
    "print(league_ERA_with_DH.sort([\"yearID\", \"lgID\"]).head(15))\n",
    "\n",
    "league_ERA.head()"
   ]
  },
  {
   "cell_type": "code",
   "execution_count": null,
   "id": "b9945f8b-9d38-4487-87df-b925ddf71272",
   "metadata": {},
   "outputs": [],
   "source": []
  },
  {
   "cell_type": "code",
   "execution_count": null,
   "id": "9142742e-4825-4801-993f-ef19a3795363",
   "metadata": {},
   "outputs": [],
   "source": []
  },
  {
   "cell_type": "code",
   "execution_count": null,
   "id": "061cb331-5aa9-48bc-aee5-8a1bff68817d",
   "metadata": {},
   "outputs": [],
   "source": []
  },
  {
   "cell_type": "code",
   "execution_count": null,
   "id": "7b2db45a-6b0d-4019-983d-23fc892144f7",
   "metadata": {},
   "outputs": [],
   "source": []
  },
  {
   "cell_type": "code",
   "execution_count": null,
   "id": "77afb5af-3999-44da-991b-88dcd96ed790",
   "metadata": {},
   "outputs": [],
   "source": []
  }
 ],
 "metadata": {
  "kernelspec": {
   "display_name": "Python 3 (ipykernel)",
   "language": "python",
   "name": "python3"
  },
  "language_info": {
   "codemirror_mode": {
    "name": "ipython",
    "version": 3
   },
   "file_extension": ".py",
   "mimetype": "text/x-python",
   "name": "python",
   "nbconvert_exporter": "python",
   "pygments_lexer": "ipython3",
   "version": "3.12.11"
  }
 },
 "nbformat": 4,
 "nbformat_minor": 5
}
